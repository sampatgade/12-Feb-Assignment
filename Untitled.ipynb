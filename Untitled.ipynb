{
 "cells": [
  {
   "cell_type": "code",
   "execution_count": 1,
   "id": "8f91461c-7aac-47b9-a10a-ef26373bac85",
   "metadata": {},
   "outputs": [],
   "source": [
    "\n",
    "##Expectional handling assignment \n",
    "\n",
    "#Questuion 1\n",
    "\n",
    "##An exception in Python is an error that occurs during the execution of a program that prevents the program from continuing its normal flow.\n",
    "\n",
    "##On the other hand, a syntax error is an error that occurs when the program is being parsed, or translated, into machine-readable code. Syntax errors occur when the programmer has made a mistake in the syntax of the program, such as misspelling a keyword, forgetting to close a parentheses, or using incorrect indentation.\n",
    "\n",
    "##Here are some key differences between exceptions and syntax errors:\n",
    "\n",
    "#Timing: Exceptions occur during the execution of a program, while syntax errors occur during the parsing or translation of the program.\n",
    "\n",
    "#Cause: Exceptions can be caused by a variety of reasons, such as user input errors, system errors, or programming errors. Syntax errors, on the other hand, are caused by mistakes in the syntax of the program.\n",
    "\n",
    "#Handling: Exceptions can be handled by using the try-except block in Python, which allows the program to continue running even if an exception is encountered. Syntax errors cannot be handled in this way because they prevent the program from running at all.\n",
    "\n",
    "#Examples: Examples of exceptions in Python include NameError, TypeError, ZeroDivisionError, and FileNotFoundError. Examples of syntax errors include misspelled keywords, missing or extra parentheses, and incorrect indentation.\n",
    "\n",
    "#In summary, exceptions and syntax errors are two different types of errors in Python. Exceptions occur during the execution of a program and can be handled with the try-except block, while syntax errors occur during the parsing of the program and prevent the program from running at all until the syntax error is fixed."
   ]
  },
  {
   "cell_type": "code",
   "execution_count": 2,
   "id": "f5d64caa-b4ff-4665-975d-2b233fec064d",
   "metadata": {},
   "outputs": [],
   "source": [
    "##what happens when an exception is not handled? Explain with and example"
   ]
  },
  {
   "cell_type": "code",
   "execution_count": 3,
   "id": "d513b12b-3229-4904-8124-9ac8de6392f4",
   "metadata": {},
   "outputs": [],
   "source": [
    "##When an exception is not handled in Python, it will cause the program to terminate abruptly and display an error message, which can be confusing for users who don't understand the technical details of the error message.\n",
    "\n",
    "##Here's an example: Let's say we have a program that asks the user to input a number, divides that number by 0, and then prints the result. Obviously, dividing by 0 is not allowed in Python and will raise an exception. If we don't handle that exception, the program will terminate abruptly and display an error message, like this:"
   ]
  },
  {
   "cell_type": "code",
   "execution_count": 4,
   "id": "c98ac5a4-4440-4fa7-a21b-9147cfa12491",
   "metadata": {},
   "outputs": [
    {
     "ename": "SyntaxError",
     "evalue": "invalid syntax (2181280847.py, line 1)",
     "output_type": "error",
     "traceback": [
      "\u001b[0;36m  Cell \u001b[0;32mIn[4], line 1\u001b[0;36m\u001b[0m\n\u001b[0;31m    Enter a number: 5\u001b[0m\n\u001b[0m          ^\u001b[0m\n\u001b[0;31mSyntaxError\u001b[0m\u001b[0;31m:\u001b[0m invalid syntax\n"
     ]
    }
   ],
   "source": [
    "Enter a number: 5\n",
    "Traceback (most recent call last):\n",
    "  File \"example.py\", line 3, in <module>\n",
    "    result = number / 0\n",
    "ZeroDivisionError: division by zero\n"
   ]
  },
  {
   "cell_type": "code",
   "execution_count": 5,
   "id": "ad7348d8-b20d-4965-9d45-55a9678ba7a1",
   "metadata": {},
   "outputs": [],
   "source": [
    "##In this case, the program terminated abruptly and displayed an error message, which may not be very helpful for the user. They may not know what a \"ZeroDivisionError\" is or what they should do to fix it.\n",
    "\n",
    "##However, if we handle the exception using the try-except block in Python, we can display a more helpful error message or perform some other action to handle the error gracefully. Here's an example:"
   ]
  },
  {
   "cell_type": "code",
   "execution_count": 6,
   "id": "fd629645-f6a1-47f4-afb5-0777400c5e4f",
   "metadata": {},
   "outputs": [
    {
     "name": "stdin",
     "output_type": "stream",
     "text": [
      "Enter a number:  55\n"
     ]
    },
    {
     "name": "stdout",
     "output_type": "stream",
     "text": [
      "You cannot divide by zero. Please try again.\n"
     ]
    }
   ],
   "source": [
    "try:\n",
    "    number = int(input(\"Enter a number: \"))\n",
    "    result = number / 0\n",
    "    print(result)\n",
    "except ZeroDivisionError:\n",
    "    print(\"You cannot divide by zero. Please try again.\")\n"
   ]
  },
  {
   "cell_type": "code",
   "execution_count": 7,
   "id": "daa5367b-1152-4793-a8e6-6665785014a9",
   "metadata": {},
   "outputs": [],
   "source": [
    "##In this example, we're using the try-except block to handle the ZeroDivisionError that will occur when the user inputs a number and we try to divide by 0. Instead of abruptly terminating the program, we're printing a more helpful error message for the user. This way, they know what went wrong and what they can do to fix it."
   ]
  },
  {
   "cell_type": "code",
   "execution_count": 8,
   "id": "b4ae18f2-560b-4bbc-8ebc-547275bb06e8",
   "metadata": {},
   "outputs": [],
   "source": [
    "## Question 4\n",
    "#Try and else\n",
    "def divide_numbers(numerator , denominator):\n",
    "    try:\n",
    "        result = numerator/ denominator\n",
    "    except  ZeroDivisionError:\n",
    "        print(\"Error: You cannot divide by zero\")\n",
    "    else:\n",
    "        print(f\"The result is:{result}\")\n",
    "    \n"
   ]
  },
  {
   "cell_type": "code",
   "execution_count": 9,
   "id": "539e88f5-4c79-45ff-9157-022a5d48596e",
   "metadata": {},
   "outputs": [
    {
     "name": "stdout",
     "output_type": "stream",
     "text": [
      "Error: You cannot divide by zero\n"
     ]
    }
   ],
   "source": [
    "divide_numbers(10,0)"
   ]
  },
  {
   "cell_type": "code",
   "execution_count": 10,
   "id": "e02cf43e-0287-4095-a542-3bedcd58c0ba",
   "metadata": {},
   "outputs": [
    {
     "name": "stdout",
     "output_type": "stream",
     "text": [
      "The result is:2.0\n"
     ]
    }
   ],
   "source": [
    "divide_numbers(10,5)"
   ]
  },
  {
   "cell_type": "code",
   "execution_count": 1,
   "id": "81fe91b0-e62e-45fc-879a-ccfe608c0173",
   "metadata": {},
   "outputs": [
    {
     "name": "stdout",
     "output_type": "stream",
     "text": [
      "The file does not exist.\n"
     ]
    },
    {
     "ename": "NameError",
     "evalue": "name 'file' is not defined",
     "output_type": "error",
     "traceback": [
      "\u001b[0;31m---------------------------------------------------------------------------\u001b[0m",
      "\u001b[0;31mNameError\u001b[0m                                 Traceback (most recent call last)",
      "Cell \u001b[0;32mIn[1], line 8\u001b[0m\n\u001b[1;32m      6\u001b[0m     \u001b[38;5;28mprint\u001b[39m(\u001b[38;5;124m\"\u001b[39m\u001b[38;5;124mThe file does not exist.\u001b[39m\u001b[38;5;124m\"\u001b[39m)\n\u001b[1;32m      7\u001b[0m \u001b[38;5;28;01mfinally\u001b[39;00m:\n\u001b[0;32m----> 8\u001b[0m     \u001b[43mfile\u001b[49m\u001b[38;5;241m.\u001b[39mclose()\n",
      "\u001b[0;31mNameError\u001b[0m: name 'file' is not defined"
     ]
    }
   ],
   "source": [
    "##Finally\n",
    "\n",
    "try:\n",
    "    file = open(\"example.txt\", \"r\")\n",
    "    content = file.read()\n",
    "    print(content)\n",
    "except FileNotFoundError:\n",
    "    print(\"The file does not exist.\")\n",
    "finally:\n",
    "    file.close()"
   ]
  },
  {
   "cell_type": "code",
   "execution_count": 2,
   "id": "123ab11a-785d-4aaf-a7c1-2ac302d8f520",
   "metadata": {},
   "outputs": [],
   "source": [
    "##Raise\n",
    "class roller(Exception):\n",
    "    \n",
    "    def __init__(self, msg) :\n",
    "        self.msg = msg"
   ]
  },
  {
   "cell_type": "code",
   "execution_count": 3,
   "id": "d496ff8c-c9df-4dc7-a7a1-95aca5b86053",
   "metadata": {},
   "outputs": [],
   "source": [
    "def rollersbhai(Roll):\n",
    "    if Roll < 0:\n",
    "        raise roller(\"Enter Roll no is Negative\")\n",
    "    elif Roll > 100:\n",
    "        raise roller(\"Entered Roll no very high\")\n",
    "    else :\n",
    "        print(\"Roll is valid\")"
   ]
  },
  {
   "cell_type": "code",
   "execution_count": 4,
   "id": "3fa3c379-7063-4cec-a6da-4f35aaa401ee",
   "metadata": {},
   "outputs": [
    {
     "name": "stdin",
     "output_type": "stream",
     "text": [
      "enter your Roll Number 55\n"
     ]
    },
    {
     "name": "stdout",
     "output_type": "stream",
     "text": [
      "Roll is valid\n"
     ]
    }
   ],
   "source": [
    "try: \n",
    "    Roll = int(input (\"enter your Roll Number\"))\n",
    "    rollersbhai(Roll)\n",
    "except roller as r :\n",
    "    print(r)"
   ]
  },
  {
   "cell_type": "code",
   "execution_count": null,
   "id": "3acc70e0-ccae-4c12-bbcd-795e1e2149a1",
   "metadata": {},
   "outputs": [],
   "source": []
  }
 ],
 "metadata": {
  "kernelspec": {
   "display_name": "Python 3 (ipykernel)",
   "language": "python",
   "name": "python3"
  },
  "language_info": {
   "codemirror_mode": {
    "name": "ipython",
    "version": 3
   },
   "file_extension": ".py",
   "mimetype": "text/x-python",
   "name": "python",
   "nbconvert_exporter": "python",
   "pygments_lexer": "ipython3",
   "version": "3.10.8"
  }
 },
 "nbformat": 4,
 "nbformat_minor": 5
}
